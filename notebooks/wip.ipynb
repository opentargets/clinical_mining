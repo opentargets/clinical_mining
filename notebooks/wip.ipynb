{
 "cells": [
  {
   "cell_type": "code",
   "execution_count": null,
   "metadata": {},
   "outputs": [],
   "source": [
    "from pyspark.sql import SparkSession\n",
    "import pyspark.sql.functions as f\n",
    "\n",
    "spark = SparkSession.builder.getOrCreate()\n",
    "\n",
    "\n"
   ]
  },
  {
   "cell_type": "code",
   "execution_count": null,
   "metadata": {},
   "outputs": [],
   "source": [
    "!wget https://github.com/user-attachments/files/18538626/All.Trials.2201.2025.tar.gz"
   ]
  },
  {
   "cell_type": "code",
   "execution_count": 4,
   "metadata": {},
   "outputs": [
    {
     "name": "stdout",
     "output_type": "stream",
     "text": [
      "+-----------+----------+-----------+-------------------+---------------+--------------------+--------------+--------------+-----------+------------+\n",
      "|     nct_id|   drug_id| disease_id|mapped_drug_disease|trial_in_chembl|      disease_labels|   drug_labels|    trial_type|trial_phase|trial_status|\n",
      "+-----------+----------+-----------+-------------------+---------------+--------------------+--------------+--------------+-----------+------------+\n",
      "|NCT00000553|      NULL|EFO_0000319|              false|           true|[cardiovascular d...|[antioxidants]|INTERVENTIONAL|     PHASE3|   COMPLETED|\n",
      "|NCT00000553|      NULL|EFO_0001645|              false|           true|  [coronary disease]|[antioxidants]|INTERVENTIONAL|     PHASE3|   COMPLETED|\n",
      "|NCT00000553|      NULL|EFO_0003777|              false|           true|    [heart diseases]|[antioxidants]|INTERVENTIONAL|     PHASE3|   COMPLETED|\n",
      "|NCT00000553|      NULL|EFO_1001375|              false|           true|[myocardial ische...|[antioxidants]|INTERVENTIONAL|     PHASE3|   COMPLETED|\n",
      "|NCT00000553|CHEMBL1064|EFO_0000319|               true|           true|[cardiovascular d...| [simvastatin]|INTERVENTIONAL|     PHASE3|   COMPLETED|\n",
      "+-----------+----------+-----------+-------------------+---------------+--------------------+--------------+--------------+-----------+------------+\n",
      "only showing top 5 rows\n",
      "\n"
     ]
    }
   ],
   "source": [
    "df = spark.read.parquet(\"all_trials_22012025\")\n",
    "\n",
    "df.show(5)"
   ]
  },
  {
   "cell_type": "code",
   "execution_count": 14,
   "metadata": {},
   "outputs": [
    {
     "name": "stdout",
     "output_type": "stream",
     "text": [
      "+-----------+------------+-------------+-------------------+---------------+--------------------+-------------------+--------------+-----------+------------+\n",
      "|     nct_id|     drug_id|   disease_id|mapped_drug_disease|trial_in_chembl|      disease_labels|        drug_labels|    trial_type|trial_phase|trial_status|\n",
      "+-----------+------------+-------------+-------------------+---------------+--------------------+-------------------+--------------+-----------+------------+\n",
      "|NCT00104728|   CHEMBL939|MONDO_0021117|               true|          false|    [lung neoplasms]|        [gefitinib]|INTERVENTIONAL|    UNKNOWN|  TERMINATED|\n",
      "|NCT00117585|        NULL|         NULL|              false|          false|[hypotension, ort...|[treatment phase 2]|INTERVENTIONAL|    UNKNOWN|   COMPLETED|\n",
      "|NCT00117585|        NULL|  EFO_0005251|              false|          false|       [hypotension]|[treatment phase 2]|INTERVENTIONAL|    UNKNOWN|   COMPLETED|\n",
      "|NCT00120042|CHEMBL395429|         NULL|              false|          false|[placenta, retained]|         [oxytocin]|INTERVENTIONAL|    UNKNOWN|   COMPLETED|\n",
      "|NCT00120042|CHEMBL395429|  EFO_0009579|               true|          false|[postpartum hemor...|         [oxytocin]|INTERVENTIONAL|    UNKNOWN|   COMPLETED|\n",
      "|NCT00120042|CHEMBL395429|   MP_0001914|               true|          false|        [hemorrhage]|         [oxytocin]|INTERVENTIONAL|    UNKNOWN|   COMPLETED|\n",
      "|NCT00120042|   CHEMBL606|         NULL|              false|          false|[placenta, retained]|      [misoprostol]|INTERVENTIONAL|    UNKNOWN|   COMPLETED|\n",
      "|NCT00120042|   CHEMBL606|  EFO_0009579|               true|          false|[postpartum hemor...|      [misoprostol]|INTERVENTIONAL|    UNKNOWN|   COMPLETED|\n",
      "|NCT00120042|   CHEMBL606|   MP_0001914|               true|          false|        [hemorrhage]|      [misoprostol]|INTERVENTIONAL|    UNKNOWN|   COMPLETED|\n",
      "|NCT00126906|  CHEMBL1539|  EFO_0001068|               true|          false|           [malaria]|      [sulfadoxine]|INTERVENTIONAL|    UNKNOWN|   COMPLETED|\n",
      "+-----------+------------+-------------+-------------------+---------------+--------------------+-------------------+--------------+-----------+------------+\n",
      "only showing top 10 rows\n",
      "\n"
     ]
    }
   ],
   "source": [
    "df.filter(f.col(\"trial_phase\") == \"UNKNOWN\").show(10)"
   ]
  },
  {
   "cell_type": "code",
   "execution_count": 6,
   "metadata": {},
   "outputs": [
    {
     "name": "stdout",
     "output_type": "stream",
     "text": [
      "+-------------------+-----+\n",
      "|mapped_drug_disease|count|\n",
      "+-------------------+-----+\n",
      "|               true|34924|\n",
      "|              false|26879|\n",
      "+-------------------+-----+\n",
      "\n"
     ]
    }
   ],
   "source": [
    "df.filter(f.col(\"trial_phase\") == \"UNKNOWN\").groupBy(\"mapped_drug_disease\").count().show(10)"
   ]
  },
  {
   "cell_type": "code",
   "execution_count": 4,
   "metadata": {},
   "outputs": [],
   "source": [
    "from sqlmodel import create_engine, select, Session, SQLModel\n",
    "from pyspark.sql import DataFrame, SparkSession\n",
    "\n",
    "def create_spark_session() -> SparkSession:\n",
    "    return SparkSession.builder \\\n",
    "        .appName(\"AACT Analysis\") \\\n",
    "        .config(\"spark.jars.packages\", \"org.postgresql:postgresql:42.6.0\") \\\n",
    "        .getOrCreate()\n",
    "\n",
    "def load_aact_table(table_name: str, db_url: str, user: str, password: str, schema: str = \"ctgov\", limit: int | None = None) -> DataFrame:\n",
    "    \"\"\"Load a table from AACT with optional row limit\"\"\"\n",
    "    jdbc_url = f\"jdbc:postgresql://{db_url}\"\n",
    "    \n",
    "    connection_properties = {\n",
    "        \"user\": user,\n",
    "        \"password\": password,\n",
    "        \"driver\": \"org.postgresql.Driver\",\n",
    "        \"ssl\": \"true\",\n",
    "        \"sslmode\": \"require\"\n",
    "    }\n",
    "    \n",
    "    full_table_name = f\"{schema}.{table_name}\"\n",
    "    \n",
    "    if limit:\n",
    "        query = f\"(SELECT * FROM {full_table_name} LIMIT {limit}) as tmp\"\n",
    "        return SparkSession.builder.getOrCreate().read.jdbc(url=jdbc_url, table=query, properties=connection_properties)\n",
    "    else:\n",
    "        return SparkSession.builder.getOrCreate().read.jdbc(url=jdbc_url, table=full_table_name, properties=connection_properties)\n"
   ]
  },
  {
   "cell_type": "code",
   "execution_count": 6,
   "metadata": {},
   "outputs": [
    {
     "name": "stderr",
     "output_type": "stream",
     "text": [
      "25/04/24 10:52:20 WARN SparkStringUtils: Truncated the string representation of a plan since it was too large. This behavior can be adjusted by setting 'spark.sql.debug.maxToStringFields'.\n",
      "                                                                                \r"
     ]
    },
    {
     "name": "stdout",
     "output_type": "stream",
     "text": [
      "+-----------+-----------------------------+--------------------------+----------------------------+--------------------------------+--------------------------+-----------------------------+-----------------------+----------------------------+-------------------------------+-------------------------+------------------------------+-----------------------------------+-----------------------------+----------------------------------+-----------------------------+-----------------------+----------------------------+----------------+---------------+----------+-----------------------+-----------------+---------------------+--------------------+---------------+-----------------------------+----------------------------+-----------------------+---------------+--------------+-------+-------------------+--------------------+--------------------+--------------+-----------------+-------------+----------+---------------+--------------------+-----------------------+--------------+----------------+--------------------+-------------------+-------------------------------+---------------------------------+------------------------------+-------+---------------------+-----------------------+--------------------+-------+------------+-----------------+-------------------+--------------+-------------------+-------+-----------------+-----------------------------+--------------------+--------------------+------------+---------------+---------------------+--------------------------------+------------------+----------------------------+----------------+\n",
      "|     nct_id|nlm_download_date_description|study_first_submitted_date|results_first_submitted_date|disposition_first_submitted_date|last_update_submitted_date|study_first_submitted_qc_date|study_first_posted_date|study_first_posted_date_type|results_first_submitted_qc_date|results_first_posted_date|results_first_posted_date_type|disposition_first_submitted_qc_date|disposition_first_posted_date|disposition_first_posted_date_type|last_update_submitted_qc_date|last_update_posted_date|last_update_posted_date_type|start_month_year|start_date_type|start_date|verification_month_year|verification_date|completion_month_year|completion_date_type|completion_date|primary_completion_month_year|primary_completion_date_type|primary_completion_date|target_duration|    study_type|acronym|baseline_population|         brief_title|      official_title|overall_status|last_known_status|        phase|enrollment|enrollment_type|              source|limitations_and_caveats|number_of_arms|number_of_groups|         why_stopped|has_expanded_access|expanded_access_type_individual|expanded_access_type_intermediate|expanded_access_type_treatment|has_dmc|is_fda_regulated_drug|is_fda_regulated_device|is_unapproved_device|is_ppsd|is_us_export|biospec_retention|biospec_description|ipd_time_frame|ipd_access_criteria|ipd_url|plan_to_share_ipd|plan_to_share_ipd_description|          created_at|          updated_at|source_class|delayed_posting|expanded_access_nctid|expanded_access_status_for_nctid|fdaaa801_violation|baseline_type_units_analyzed|patient_registry|\n",
      "+-----------+-----------------------------+--------------------------+----------------------------+--------------------------------+--------------------------+-----------------------------+-----------------------+----------------------------+-------------------------------+-------------------------+------------------------------+-----------------------------------+-----------------------------+----------------------------------+-----------------------------+-----------------------+----------------------------+----------------+---------------+----------+-----------------------+-----------------+---------------------+--------------------+---------------+-----------------------------+----------------------------+-----------------------+---------------+--------------+-------+-------------------+--------------------+--------------------+--------------+-----------------+-------------+----------+---------------+--------------------+-----------------------+--------------+----------------+--------------------+-------------------+-------------------------------+---------------------------------+------------------------------+-------+---------------------+-----------------------+--------------------+-------+------------+-----------------+-------------------+--------------+-------------------+-------+-----------------+-----------------------------+--------------------+--------------------+------------+---------------+---------------------+--------------------------------+------------------+----------------------------+----------------+\n",
      "|NCT03599882|                         NULL|                2018-07-04|                        NULL|                            NULL|                2018-08-20|                   2018-07-24|             2018-07-26|                      ACTUAL|                           NULL|                     NULL|                          NULL|                               NULL|                         NULL|                              NULL|                   2018-08-20|             2018-08-21|                      ACTUAL|      2018-08-01|         ACTUAL|2018-08-01|                2018-08|       2018-08-31|           2019-07-31|           ESTIMATED|     2019-07-31|                   2018-12-31|                   ESTIMATED|             2018-12-31|        2 Years| OBSERVATIONAL|   NULL|               NULL|Liver Steatosis a...|Non-invasive Asse...|       UNKNOWN|       RECRUITING|         NULL|       200|      ESTIMATED|Chang Gung Memori...|                   NULL|          NULL|            NULL|                NULL|              false|                           NULL|                             NULL|                          NULL|  false|                false|                  false|                NULL|   NULL|        NULL|             NULL|               NULL|          NULL|               NULL|   NULL|               NO|                         NULL|2025-04-22 14:24:...|2025-04-22 14:24:...|       OTHER|           NULL|                 NULL|                            NULL|              NULL|                        NULL|            true|\n",
      "|NCT06315634|                         NULL|                2024-02-09|                        NULL|                            NULL|                2024-03-13|                   2024-03-13|             2024-03-18|                      ACTUAL|                           NULL|                     NULL|                          NULL|                               NULL|                         NULL|                              NULL|                   2024-03-13|             2024-03-18|                      ACTUAL|      2021-03-15|         ACTUAL|2021-03-15|                2024-03|       2024-03-31|           2022-03-10|              ACTUAL|     2022-03-10|                   2022-03-10|                      ACTUAL|             2022-03-10|           NULL|INTERVENTIONAL|   NULL|               NULL|Intrathecal Dexme...|Prospective Rando...|     COMPLETED|             NULL|       PHASE4|        75|         ACTUAL|National Cancer I...|                   NULL|             3|            NULL|                NULL|              false|                           NULL|                             NULL|                          NULL|   NULL|                false|                  false|                NULL|   NULL|        NULL|             NULL|               NULL|          NULL|               NULL|   NULL|             NULL|                         NULL|2025-04-22 14:24:...|2025-04-22 14:24:...|       OTHER|           NULL|                 NULL|                            NULL|              NULL|                        NULL|            NULL|\n",
      "|NCT01314183|                         NULL|                2011-02-23|                        NULL|                            NULL|                2015-06-22|                   2011-03-11|             2011-03-14|                   ESTIMATED|                           NULL|                     NULL|                          NULL|                               NULL|                         NULL|                              NULL|                   2015-06-22|             2015-06-23|                   ESTIMATED|         2011-04|           NULL|2011-04-30|                2015-06|       2015-06-30|              2015-04|              ACTUAL|     2015-04-30|                      2015-04|                      ACTUAL|             2015-04-30|           NULL|INTERVENTIONAL|   NULL|               NULL|Enhancing the Eff...|Enhancing the Eff...|     COMPLETED|             NULL|PHASE2/PHASE3|       300|         ACTUAL|Agency for Health...|                   NULL|             4|            NULL|                NULL|              false|                           NULL|                             NULL|                          NULL|  false|                 NULL|                   NULL|                NULL|   NULL|        NULL|             NULL|               NULL|          NULL|               NULL|   NULL|             NULL|                         NULL|2025-04-23 02:38:...|2025-04-23 02:38:...|         FED|           NULL|                 NULL|                            NULL|              NULL|                        NULL|            NULL|\n",
      "|NCT06049849|                         NULL|                2023-09-11|                        NULL|                            NULL|                2024-02-22|                   2023-09-16|             2023-09-22|                      ACTUAL|                           NULL|                     NULL|                          NULL|                               NULL|                         NULL|                              NULL|                   2024-02-22|             2024-02-23|                      ACTUAL|      2023-10-31|         ACTUAL|2023-10-31|                2024-02|       2024-02-29|           2024-12-31|           ESTIMATED|     2024-12-31|                   2024-10-30|                   ESTIMATED|             2024-10-30|           NULL|INTERVENTIONAL|   NULL|               NULL|Can Patients With...|Can Participants ...|    RECRUITING|             NULL|           NA|        46|      ESTIMATED|First Institute o...|                   NULL|             2|            NULL|                NULL|              false|                           NULL|                             NULL|                          NULL|  false|                false|                   true|                NULL|   NULL|        NULL|             NULL|               NULL|          NULL|               NULL|   NULL|               NO|         All individual pa...|2025-04-23 02:38:...|2025-04-23 02:38:...|       OTHER|           NULL|                 NULL|                            NULL|              NULL|                        NULL|            NULL|\n",
      "|NCT04269317|                         NULL|                2020-02-06|                        NULL|                            NULL|                2021-01-10|                   2020-02-12|             2020-02-13|                      ACTUAL|                           NULL|                     NULL|                          NULL|                               NULL|                         NULL|                              NULL|                   2021-01-10|             2021-01-12|                      ACTUAL|      2020-03-01|      ESTIMATED|2020-03-01|                2021-01|       2021-01-31|           2021-01-10|              ACTUAL|     2021-01-10|                   2021-01-10|                      ACTUAL|             2021-01-10|           NULL|INTERVENTIONAL|   NULL|               NULL|Clinical Study to...|A Prospective Stu...|     WITHDRAWN|             NULL|           NA|         0|         ACTUAL|        Novoxel Ltd.|                   NULL|             1|            NULL|Delay in opening ...|              false|                           NULL|                             NULL|                          NULL|  false|                false|                   true|                true|   NULL|       false|             NULL|               NULL|          NULL|               NULL|   NULL|             NULL|                         NULL|2025-04-22 14:24:...|2025-04-22 14:24:...|    INDUSTRY|           NULL|                 NULL|                            NULL|              NULL|                        NULL|            NULL|\n",
      "+-----------+-----------------------------+--------------------------+----------------------------+--------------------------------+--------------------------+-----------------------------+-----------------------+----------------------------+-------------------------------+-------------------------+------------------------------+-----------------------------------+-----------------------------+----------------------------------+-----------------------------+-----------------------+----------------------------+----------------+---------------+----------+-----------------------+-----------------+---------------------+--------------------+---------------+-----------------------------+----------------------------+-----------------------+---------------+--------------+-------+-------------------+--------------------+--------------------+--------------+-----------------+-------------+----------+---------------+--------------------+-----------------------+--------------+----------------+--------------------+-------------------+-------------------------------+---------------------------------+------------------------------+-------+---------------------+-----------------------+--------------------+-------+------------+-----------------+-------------------+--------------+-------------------+-------+-----------------+-----------------------------+--------------------+--------------------+------------+---------------+---------------------+--------------------------------+------------------+----------------------------+----------------+\n",
      "only showing top 5 rows\n",
      "\n"
     ]
    }
   ],
   "source": [
    "# from .src.utils.db import create_spark_session, load_aact_table\n",
    "\n",
    "spark = create_spark_session()\n",
    "\n",
    "db_url = 'aact-db.ctti-clinicaltrials.org:5432/aact'\n",
    "user = 'irenelopez'\n",
    "password = 'Ephemeral2023'\n",
    "\n",
    "studies = load_aact_table(\"studies\", db_url, user, password, limit=1000)\n",
    "studies.show(5)\n",
    "\n"
   ]
  },
  {
   "cell_type": "code",
   "execution_count": 12,
   "metadata": {},
   "outputs": [],
   "source": [
    "class AACTConnector:\n",
    "    \"\"\"A connection manager for AACT database with credential persistence\"\"\"\n",
    "\n",
    "    def __init__(self, db_url: str, user: str, password: str, schema: str = \"ctgov\"):\n",
    "        \"\"\"\n",
    "        Initialize the connection manager.\n",
    "\n",
    "        Args:\n",
    "            db_url: Database host and port (e.g., \"aact-db.ctti-clinicaltrials.org:5432/aact\")\n",
    "            user: Database username\n",
    "            password: Database password\n",
    "            schema: Database schema (defaults to \"ctgov\")\n",
    "        \"\"\"\n",
    "        self.jdbc_url = f\"jdbc:postgresql://{db_url}\"\n",
    "        self.connection_properties = {\n",
    "            \"user\": user,\n",
    "            \"password\": password,\n",
    "            \"driver\": \"org.postgresql.Driver\",\n",
    "            \"ssl\": \"true\",\n",
    "            \"sslmode\": \"require\",\n",
    "        }\n",
    "        self.schema = schema\n",
    "        self.spark = self._create_spark_session()\n",
    "\n",
    "    def _create_spark_session(self) -> SparkSession:\n",
    "        \"\"\"Create a Spark session with PostgreSQL driver\"\"\"\n",
    "        return (\n",
    "            SparkSession.builder.appName(\"AACT Analysis\")\n",
    "            .config(\"spark.jars.packages\", \"org.postgresql:postgresql:42.6.0\")\n",
    "            .getOrCreate()\n",
    "        )\n",
    "\n",
    "    def load_table(\n",
    "        self,\n",
    "        table_name: str,\n",
    "        limit: int | None = None,\n",
    "        select_cols: list[str] | str | None = None,\n",
    "    ) -> DataFrame:\n",
    "        \"\"\"\n",
    "        Load a table from AACT database.\n",
    "\n",
    "        Args:\n",
    "            table_name: Name of the table to load\n",
    "            limit: Optional row limit for testing\n",
    "\n",
    "        Returns:\n",
    "            A Spark DataFrame containing the table data\n",
    "        \"\"\"\n",
    "        full_table_name = f\"{self.schema}.{table_name}\"\n",
    "\n",
    "        if limit:\n",
    "            if select_cols:\n",
    "                select_cols = \", \".join(select_cols) if isinstance(select_cols, list) else select_cols\n",
    "            query = f\"(SELECT {select_cols} FROM {full_table_name} LIMIT {limit}) as tmp\"\n",
    "            return self.spark.read.jdbc(\n",
    "                url=self.jdbc_url, table=query, properties=self.connection_properties\n",
    "            )\n",
    "        else:\n",
    "            return self.spark.read.jdbc(\n",
    "                url=self.jdbc_url,\n",
    "                table=full_table_name,\n",
    "                properties=self.connection_properties,\n",
    "            )\n",
    "\n",
    "    def print_table_schema(self, table_name: str) -> None:\n",
    "        \"\"\"Get schema for a table\"\"\"\n",
    "        limited_df = self.load_table(table_name, limit=1)\n",
    "        limited_df.printSchema()\n"
   ]
  },
  {
   "cell_type": "code",
   "execution_count": 13,
   "metadata": {},
   "outputs": [],
   "source": [
    "aact = AACTConnector(\n",
    "    db_url=\"aact-db.ctti-clinicaltrials.org:5432/aact\",\n",
    "    user=\"irenelopez\",\n",
    "    password=\"Ephemeral2023\"\n",
    ")"
   ]
  },
  {
   "cell_type": "code",
   "execution_count": 11,
   "metadata": {},
   "outputs": [
    {
     "name": "stdout",
     "output_type": "stream",
     "text": [
      "root\n",
      " |-- nct_id: string (nullable = true)\n",
      " |-- nlm_download_date_description: string (nullable = true)\n",
      " |-- study_first_submitted_date: date (nullable = true)\n",
      " |-- results_first_submitted_date: date (nullable = true)\n",
      " |-- disposition_first_submitted_date: date (nullable = true)\n",
      " |-- last_update_submitted_date: date (nullable = true)\n",
      " |-- study_first_submitted_qc_date: date (nullable = true)\n",
      " |-- study_first_posted_date: date (nullable = true)\n",
      " |-- study_first_posted_date_type: string (nullable = true)\n",
      " |-- results_first_submitted_qc_date: date (nullable = true)\n",
      " |-- results_first_posted_date: date (nullable = true)\n",
      " |-- results_first_posted_date_type: string (nullable = true)\n",
      " |-- disposition_first_submitted_qc_date: date (nullable = true)\n",
      " |-- disposition_first_posted_date: date (nullable = true)\n",
      " |-- disposition_first_posted_date_type: string (nullable = true)\n",
      " |-- last_update_submitted_qc_date: date (nullable = true)\n",
      " |-- last_update_posted_date: date (nullable = true)\n",
      " |-- last_update_posted_date_type: string (nullable = true)\n",
      " |-- start_month_year: string (nullable = true)\n",
      " |-- start_date_type: string (nullable = true)\n",
      " |-- start_date: date (nullable = true)\n",
      " |-- verification_month_year: string (nullable = true)\n",
      " |-- verification_date: date (nullable = true)\n",
      " |-- completion_month_year: string (nullable = true)\n",
      " |-- completion_date_type: string (nullable = true)\n",
      " |-- completion_date: date (nullable = true)\n",
      " |-- primary_completion_month_year: string (nullable = true)\n",
      " |-- primary_completion_date_type: string (nullable = true)\n",
      " |-- primary_completion_date: date (nullable = true)\n",
      " |-- target_duration: string (nullable = true)\n",
      " |-- study_type: string (nullable = true)\n",
      " |-- acronym: string (nullable = true)\n",
      " |-- baseline_population: string (nullable = true)\n",
      " |-- brief_title: string (nullable = true)\n",
      " |-- official_title: string (nullable = true)\n",
      " |-- overall_status: string (nullable = true)\n",
      " |-- last_known_status: string (nullable = true)\n",
      " |-- phase: string (nullable = true)\n",
      " |-- enrollment: integer (nullable = true)\n",
      " |-- enrollment_type: string (nullable = true)\n",
      " |-- source: string (nullable = true)\n",
      " |-- limitations_and_caveats: string (nullable = true)\n",
      " |-- number_of_arms: integer (nullable = true)\n",
      " |-- number_of_groups: integer (nullable = true)\n",
      " |-- why_stopped: string (nullable = true)\n",
      " |-- has_expanded_access: boolean (nullable = true)\n",
      " |-- expanded_access_type_individual: boolean (nullable = true)\n",
      " |-- expanded_access_type_intermediate: boolean (nullable = true)\n",
      " |-- expanded_access_type_treatment: boolean (nullable = true)\n",
      " |-- has_dmc: boolean (nullable = true)\n",
      " |-- is_fda_regulated_drug: boolean (nullable = true)\n",
      " |-- is_fda_regulated_device: boolean (nullable = true)\n",
      " |-- is_unapproved_device: boolean (nullable = true)\n",
      " |-- is_ppsd: boolean (nullable = true)\n",
      " |-- is_us_export: boolean (nullable = true)\n",
      " |-- biospec_retention: string (nullable = true)\n",
      " |-- biospec_description: string (nullable = true)\n",
      " |-- ipd_time_frame: string (nullable = true)\n",
      " |-- ipd_access_criteria: string (nullable = true)\n",
      " |-- ipd_url: string (nullable = true)\n",
      " |-- plan_to_share_ipd: string (nullable = true)\n",
      " |-- plan_to_share_ipd_description: string (nullable = true)\n",
      " |-- created_at: timestamp (nullable = true)\n",
      " |-- updated_at: timestamp (nullable = true)\n",
      " |-- source_class: string (nullable = true)\n",
      " |-- delayed_posting: boolean (nullable = true)\n",
      " |-- expanded_access_nctid: string (nullable = true)\n",
      " |-- expanded_access_status_for_nctid: string (nullable = true)\n",
      " |-- fdaaa801_violation: boolean (nullable = true)\n",
      " |-- baseline_type_units_analyzed: string (nullable = true)\n",
      " |-- patient_registry: boolean (nullable = true)\n",
      "\n"
     ]
    }
   ],
   "source": [
    "aact.print_table_schema('studies')"
   ]
  },
  {
   "cell_type": "code",
   "execution_count": 8,
   "metadata": {},
   "outputs": [
    {
     "name": "stderr",
     "output_type": "stream",
     "text": [
      "                                                                                \r"
     ]
    },
    {
     "name": "stdout",
     "output_type": "stream",
     "text": [
      "+-----------+-----------------------------+--------------------------+----------------------------+--------------------------------+--------------------------+-----------------------------+-----------------------+----------------------------+-------------------------------+-------------------------+------------------------------+-----------------------------------+-----------------------------+----------------------------------+-----------------------------+-----------------------+----------------------------+----------------+---------------+----------+-----------------------+-----------------+---------------------+--------------------+---------------+-----------------------------+----------------------------+-----------------------+---------------+--------------+-----------+--------------------+--------------------+--------------------+--------------------+------------------+------+----------+---------------+--------------------+-----------------------+--------------+----------------+-----------+-------------------+-------------------------------+---------------------------------+------------------------------+-------+---------------------+-----------------------+--------------------+-------+------------+-----------------+-------------------+--------------+-------------------+--------------------+-----------------+-----------------------------+--------------------+--------------------+------------+---------------+---------------------+--------------------------------+------------------+----------------------------+----------------+\n",
      "|     nct_id|nlm_download_date_description|study_first_submitted_date|results_first_submitted_date|disposition_first_submitted_date|last_update_submitted_date|study_first_submitted_qc_date|study_first_posted_date|study_first_posted_date_type|results_first_submitted_qc_date|results_first_posted_date|results_first_posted_date_type|disposition_first_submitted_qc_date|disposition_first_posted_date|disposition_first_posted_date_type|last_update_submitted_qc_date|last_update_posted_date|last_update_posted_date_type|start_month_year|start_date_type|start_date|verification_month_year|verification_date|completion_month_year|completion_date_type|completion_date|primary_completion_month_year|primary_completion_date_type|primary_completion_date|target_duration|    study_type|    acronym| baseline_population|         brief_title|      official_title|      overall_status| last_known_status| phase|enrollment|enrollment_type|              source|limitations_and_caveats|number_of_arms|number_of_groups|why_stopped|has_expanded_access|expanded_access_type_individual|expanded_access_type_intermediate|expanded_access_type_treatment|has_dmc|is_fda_regulated_drug|is_fda_regulated_device|is_unapproved_device|is_ppsd|is_us_export|biospec_retention|biospec_description|ipd_time_frame|ipd_access_criteria|             ipd_url|plan_to_share_ipd|plan_to_share_ipd_description|          created_at|          updated_at|source_class|delayed_posting|expanded_access_nctid|expanded_access_status_for_nctid|fdaaa801_violation|baseline_type_units_analyzed|patient_registry|\n",
      "+-----------+-----------------------------+--------------------------+----------------------------+--------------------------------+--------------------------+-----------------------------+-----------------------+----------------------------+-------------------------------+-------------------------+------------------------------+-----------------------------------+-----------------------------+----------------------------------+-----------------------------+-----------------------+----------------------------+----------------+---------------+----------+-----------------------+-----------------+---------------------+--------------------+---------------+-----------------------------+----------------------------+-----------------------+---------------+--------------+-----------+--------------------+--------------------+--------------------+--------------------+------------------+------+----------+---------------+--------------------+-----------------------+--------------+----------------+-----------+-------------------+-------------------------------+---------------------------------+------------------------------+-------+---------------------+-----------------------+--------------------+-------+------------+-----------------+-------------------+--------------+-------------------+--------------------+-----------------+-----------------------------+--------------------+--------------------+------------+---------------+---------------------+--------------------------------+------------------+----------------------------+----------------+\n",
      "|NCT01774721|                         NULL|                2013-01-21|                  2018-03-29|                            NULL|                2023-02-06|                   2013-01-21|             2013-01-24|                   ESTIMATED|                     2018-03-29|               2018-10-26|                        ACTUAL|                               NULL|                         NULL|                              NULL|                   2023-02-06|             2023-11-14|                      ACTUAL|      2013-05-09|         ACTUAL|2013-05-09|                2023-01|       2023-01-31|           2022-01-27|              ACTUAL|     2022-01-27|                   2016-07-29|                      ACTUAL|             2016-07-29|           NULL|INTERVENTIONAL|       NULL|ITT Population in...|ARCHER1050: A Stu...|ARCHER 1050: A RA...|           COMPLETED|              NULL|PHASE3|       452|         ACTUAL|              Pfizer|                   NULL|             2|            NULL|       NULL|              false|                           NULL|                             NULL|                          NULL|   true|                 NULL|                   NULL|                NULL|   NULL|        NULL|             NULL|               NULL|          NULL|               NULL|https://www.pfize...|              YES|         Pfizer will provi...|2025-04-23 02:39:...|2025-04-23 02:39:...|    INDUSTRY|           NULL|                 NULL|                            NULL|              NULL|                        NULL|            NULL|\n",
      "|NCT03742557|                         NULL|                2018-11-08|                        NULL|                            NULL|                2019-09-09|                   2018-11-14|             2018-11-15|                      ACTUAL|                           NULL|                     NULL|                          NULL|                               NULL|                         NULL|                              NULL|                   2019-09-09|             2019-09-10|                      ACTUAL|      2018-10-01|         ACTUAL|2018-10-01|                2019-09|       2019-09-30|           2020-01-01|           ESTIMATED|     2020-01-01|                   2020-01-01|                   ESTIMATED|             2020-01-01|           NULL|INTERVENTIONAL|       NULL|                NULL|Evaluation of Sch...|Evaluation of Sch...|             UNKNOWN|        RECRUITING|PHASE3|        30|      ESTIMATED|National Institut...|                   NULL|             2|            NULL|       NULL|              false|                           NULL|                             NULL|                          NULL|   true|                false|                  false|                NULL|   NULL|       false|             NULL|               NULL|          NULL|               NULL|                NULL|               NO|                   Undecided.|2025-04-23 02:39:...|2025-04-23 02:39:...|       OTHER|           NULL|                 NULL|                            NULL|              NULL|                        NULL|            NULL|\n",
      "|NCT00648063|                         NULL|                2008-03-30|                        NULL|                            NULL|                2009-11-30|                   2008-03-31|             2008-04-01|                   ESTIMATED|                           NULL|                     NULL|                          NULL|                               NULL|                         NULL|                              NULL|                   2009-11-30|             2009-12-01|                   ESTIMATED|         2005-11|           NULL|2005-11-30|                2009-11|       2009-11-30|              2006-01|              ACTUAL|     2006-01-31|                      2005-12|                      ACTUAL|             2005-12-31|           NULL|INTERVENTIONAL|       NULL|                NULL|Fasting Study of ...|Single-Dose Fasti...|           COMPLETED|              NULL|PHASE1|        24|         ACTUAL|         MylanPharma|                   NULL|             2|            NULL|       NULL|              false|                           NULL|                             NULL|                          NULL|   NULL|                 NULL|                   NULL|                NULL|   NULL|        NULL|             NULL|               NULL|          NULL|               NULL|                NULL|             NULL|                         NULL|2025-04-23 02:39:...|2025-04-23 02:39:...|     UNKNOWN|           NULL|                 NULL|                            NULL|              NULL|                        NULL|            NULL|\n",
      "|NCT00103896|                         NULL|                2005-02-15|                        NULL|                            NULL|                2017-02-27|                   2005-02-15|             2005-02-16|                   ESTIMATED|                           NULL|                     NULL|                          NULL|                               NULL|                         NULL|                              NULL|                   2017-02-27|             2017-03-01|                      ACTUAL|         2003-09|           NULL|2003-09-30|                2016-07|       2016-07-31|              2010-10|              ACTUAL|     2010-10-31|                      2010-10|                      ACTUAL|             2010-10-31|           NULL| OBSERVATIONAL|       NULL|                NULL|Connect to Protec...|Connect to Protec...|           COMPLETED|              NULL|  NULL|     16706|         ACTUAL|University of Nor...|                   NULL|          NULL|               3|       NULL|              false|                           NULL|                             NULL|                          NULL|  false|                 NULL|                   NULL|                NULL|   NULL|        NULL|             NULL|               NULL|          NULL|               NULL|                NULL|             NULL|                         NULL|2025-04-23 02:39:...|2025-04-23 02:39:...|       OTHER|           NULL|                 NULL|                            NULL|              NULL|                        NULL|            NULL|\n",
      "|NCT01600716|                         NULL|                2012-05-15|                  2016-02-17|                      2015-04-29|                2019-04-17|                   2012-05-15|             2012-05-17|                   ESTIMATED|                     2016-02-17|               2016-03-22|                     ESTIMATED|                         2015-06-15|                   2015-07-13|                         ESTIMATED|                   2019-04-17|             2019-04-30|                      ACTUAL|      2012-06-13|         ACTUAL|2012-06-13|                2019-04|       2019-04-30|           2015-03-27|              ACTUAL|     2015-03-27|                   2014-04-04|                      ACTUAL|             2014-04-04|           NULL|INTERVENTIONAL|       NULL|                NULL|Safety and Effica...|                NULL|           COMPLETED|              NULL|PHASE3|       144|         ACTUAL|            Allergan|                   NULL|             2|            NULL|       NULL|              false|                           NULL|                             NULL|                          NULL|  false|                 NULL|                   NULL|                NULL|   NULL|        NULL|             NULL|               NULL|          NULL|               NULL|                NULL|             NULL|                         NULL|2025-04-23 02:39:...|2025-04-23 02:39:...|    INDUSTRY|           NULL|                 NULL|                            NULL|              NULL|                        NULL|            NULL|\n",
      "|NCT01096355|                         NULL|                2010-03-30|                        NULL|                            NULL|                2014-04-01|                   2010-03-30|             2010-03-31|                   ESTIMATED|                           NULL|                     NULL|                          NULL|                               NULL|                         NULL|                              NULL|                   2014-04-01|             2014-04-02|                   ESTIMATED|         2010-02|           NULL|2010-02-28|                2013-12|       2013-12-31|                 NULL|                NULL|           NULL|                      2012-07|                      ACTUAL|             2012-07-31|           NULL|INTERVENTIONAL|       NULL|                NULL|Gamma-Secretase I...|A Phase I Study o...|           COMPLETED|              NULL|PHASE1|        28|         ACTUAL|National Cancer I...|                   NULL|             6|            NULL|       NULL|              false|                           NULL|                             NULL|                          NULL|   NULL|                 NULL|                   NULL|                NULL|   NULL|        NULL|             NULL|               NULL|          NULL|               NULL|                NULL|             NULL|                         NULL|2025-04-23 02:39:...|2025-04-23 02:39:...|         NIH|           NULL|                 NULL|                            NULL|              NULL|                        NULL|            NULL|\n",
      "|NCT03979287|                         NULL|                2019-06-05|                        NULL|                            NULL|                2020-02-04|                   2019-06-05|             2019-06-07|                      ACTUAL|                           NULL|                     NULL|                          NULL|                               NULL|                         NULL|                              NULL|                   2020-02-04|             2020-02-05|                      ACTUAL|      2019-07-13|         ACTUAL|2019-07-13|                2020-02|       2020-02-29|           2019-11-15|              ACTUAL|     2019-11-15|                   2019-10-25|                      ACTUAL|             2019-10-25|           NULL|INTERVENTIONAL|       NULL|                NULL|Interferential Cu...|Efficacy of a Int...|           COMPLETED|              NULL|    NA|        60|         ACTUAL|University of Sev...|                   NULL|             2|            NULL|       NULL|              false|                           NULL|                             NULL|                          NULL|   true|                false|                  false|                NULL|   NULL|        NULL|             NULL|               NULL|          NULL|               NULL|                NULL|               NO|                         NULL|2025-04-23 02:39:...|2025-04-23 02:39:...|       OTHER|           NULL|                 NULL|                            NULL|              NULL|                        NULL|            NULL|\n",
      "|NCT05194644|                         NULL|                2022-01-04|                        NULL|                            NULL|                2022-01-15|                   2022-01-04|             2022-01-18|                      ACTUAL|                           NULL|                     NULL|                          NULL|                               NULL|                         NULL|                              NULL|                   2022-01-15|             2022-01-31|                      ACTUAL|      2021-11-10|         ACTUAL|2021-11-10|                2022-01|       2022-01-31|           2022-07-22|           ESTIMATED|     2022-07-22|                   2022-07-12|                   ESTIMATED|             2022-07-12|           NULL|INTERVENTIONAL|       NULL|                NULL|Sensorimotor Stim...|Effects of Sensor...|             UNKNOWN|        RECRUITING|    NA|        54|      ESTIMATED|University of Lahore|                   NULL|             2|            NULL|       NULL|              false|                           NULL|                             NULL|                          NULL|  false|                false|                  false|                NULL|   NULL|        NULL|             NULL|               NULL|          NULL|               NULL|                NULL|               NO|                         NULL|2025-04-23 02:39:...|2025-04-23 02:39:...|       OTHER|           NULL|                 NULL|                            NULL|              NULL|                        NULL|            NULL|\n",
      "|NCT02732574|                         NULL|                2016-03-27|                        NULL|                            NULL|                2016-09-14|                   2016-04-04|             2016-04-08|                   ESTIMATED|                           NULL|                     NULL|                          NULL|                               NULL|                         NULL|                              NULL|                   2016-09-14|             2016-09-15|                   ESTIMATED|         2016-05|           NULL|2016-05-31|                2016-09|       2016-09-30|              2017-12|           ESTIMATED|     2017-12-31|                      2017-09|                   ESTIMATED|             2017-09-30|           NULL|INTERVENTIONAL|       NULL|                NULL|Oscillating Posit...|The Effectiveness...|             UNKNOWN|NOT_YET_RECRUITING|    NA|       162|      ESTIMATED|London Health Sci...|                   NULL|             2|            NULL|       NULL|              false|                           NULL|                             NULL|                          NULL|  false|                 NULL|                   NULL|                NULL|   NULL|        NULL|             NULL|               NULL|          NULL|               NULL|                NULL|             NULL|                         NULL|2025-04-23 02:39:...|2025-04-23 02:39:...|       OTHER|           NULL|                 NULL|                            NULL|              NULL|                        NULL|            NULL|\n",
      "|NCT05681182|                         NULL|                2022-11-25|                        NULL|                            NULL|                2024-02-20|                   2022-12-27|             2023-01-12|                      ACTUAL|                           NULL|                     NULL|                          NULL|                               NULL|                         NULL|                              NULL|                   2024-02-20|             2024-02-22|                      ACTUAL|      2023-01-20|         ACTUAL|2023-01-20|                2024-02|       2024-02-29|           2024-02-06|              ACTUAL|     2024-02-06|                   2024-02-06|                      ACTUAL|             2024-02-06|           NULL|INTERVENTIONAL|  CAMP POAF|                NULL|Prevention of Pos...|A Prospective Pil...|           COMPLETED|              NULL|PHASE4|        30|         ACTUAL|WakeMed Health an...|                   NULL|             1|            NULL|       NULL|              false|                           NULL|                             NULL|                          NULL|  false|                 true|                   true|                NULL|   NULL|        true|             NULL|               NULL|          NULL|               NULL|                NULL|             NULL|                         NULL|2025-04-23 02:39:...|2025-04-23 02:39:...|       OTHER|           NULL|                 NULL|                            NULL|              NULL|                        NULL|            NULL|\n",
      "|NCT05317949|                         NULL|                2022-04-02|                        NULL|                            NULL|                2023-02-20|                   2022-04-02|             2022-04-08|                      ACTUAL|                           NULL|                     NULL|                          NULL|                               NULL|                         NULL|                              NULL|                   2023-02-20|             2023-02-21|                      ACTUAL|      2022-04-01|         ACTUAL|2022-04-01|                2023-02|       2023-02-28|           2023-01-01|              ACTUAL|     2023-01-01|                   2023-01-01|                      ACTUAL|             2023-01-01|           NULL|INTERVENTIONAL|       NULL|                NULL|Effect of Integra...|Effect of Integra...|           COMPLETED|              NULL|    NA|        28|         ACTUAL|Riphah Internatio...|                   NULL|             2|            NULL|       NULL|              false|                           NULL|                             NULL|                          NULL|   true|                false|                  false|                NULL|   NULL|        NULL|             NULL|               NULL|          NULL|               NULL|                NULL|               NO|                         NULL|2025-04-22 14:26:...|2025-04-22 14:26:...|       OTHER|           NULL|                 NULL|                            NULL|              NULL|                        NULL|            NULL|\n",
      "|NCT01233609|                         NULL|                2010-11-01|                  2017-08-17|                            NULL|                2017-10-24|                   2010-11-02|             2010-11-03|                   ESTIMATED|                     2017-10-24|               2017-12-02|                        ACTUAL|                               NULL|                         NULL|                              NULL|                   2017-10-24|             2017-12-02|                      ACTUAL|         2010-11|           NULL|2010-11-30|                2017-10|       2017-10-31|              2015-12|              ACTUAL|     2015-12-31|                      2015-12|                      ACTUAL|             2015-12-31|           NULL|INTERVENTIONAL|        VPA|                NULL|Trial of Oral Val...|A Phase II Multip...|           COMPLETED|              NULL|PHASE2|        90|         ACTUAL|Foundation Fighti...|                   NULL|             2|            NULL|       NULL|              false|                           NULL|                             NULL|                          NULL|   true|                 NULL|                   NULL|                NULL|   NULL|        NULL|             NULL|               NULL|          NULL|               NULL|                NULL|             NULL|                         NULL|2025-04-22 02:06:...|2025-04-22 02:06:...|       OTHER|           NULL|                 NULL|                            NULL|              NULL|                        NULL|            NULL|\n",
      "|NCT05584007|                         NULL|                2022-09-07|                        NULL|                            NULL|                2024-12-04|                   2022-10-13|             2022-10-18|                      ACTUAL|                           NULL|                     NULL|                          NULL|                               NULL|                         NULL|                              NULL|                   2024-12-04|             2024-12-09|                      ACTUAL|      2023-08-29|         ACTUAL|2023-08-29|                2024-12|       2024-12-31|           2026-10-01|           ESTIMATED|     2026-10-01|                   2025-10-01|                   ESTIMATED|             2025-10-01|           NULL|INTERVENTIONAL|       COAT|                NULL|Cellulitis Optima...|A Blinded, Non-in...|          RECRUITING|              NULL|PHASE3|       356|      ESTIMATED|University of Sou...|                   NULL|             2|            NULL|       NULL|              false|                           NULL|                             NULL|                          NULL|   true|                false|                  false|                NULL|   NULL|       false|             NULL|               NULL|          NULL|               NULL|                NULL|               NO|         Data from all cen...|2025-04-22 14:26:...|2025-04-22 14:26:...|       OTHER|           NULL|                 NULL|                            NULL|              NULL|                        NULL|            NULL|\n",
      "|NCT01393652|                         NULL|                2011-05-23|                        NULL|                            NULL|                2011-09-30|                   2011-07-11|             2011-07-13|                   ESTIMATED|                           NULL|                     NULL|                          NULL|                               NULL|                         NULL|                              NULL|                   2011-09-30|             2011-10-03|                   ESTIMATED|         2011-05|           NULL|2011-05-31|                2011-09|       2011-09-30|              2011-09|              ACTUAL|     2011-09-30|                      2011-09|                      ACTUAL|             2011-09-30|           NULL|INTERVENTIONAL|SINGLE DOSE|                NULL|Single Dose, Dose...|A Phase I, Random...|           COMPLETED|              NULL|PHASE1|        32|         ACTUAL|              Pfizer|                   NULL|             3|            NULL|       NULL|              false|                           NULL|                             NULL|                          NULL|  false|                 NULL|                   NULL|                NULL|   NULL|        NULL|             NULL|               NULL|          NULL|               NULL|                NULL|             NULL|                         NULL|2025-04-22 14:26:...|2025-04-22 14:26:...|    INDUSTRY|           NULL|                 NULL|                            NULL|              NULL|                        NULL|            NULL|\n",
      "|NCT02928900|                         NULL|                2016-09-26|                  2022-08-08|                            NULL|                2024-10-24|                   2016-10-06|             2016-10-10|                   ESTIMATED|                     2024-10-24|               2024-12-09|                        ACTUAL|                               NULL|                         NULL|                              NULL|                   2024-10-24|             2024-12-09|                      ACTUAL|      2016-09-26|         ACTUAL|2016-09-26|                2024-10|       2024-10-31|           2021-03-31|              ACTUAL|     2021-03-31|                   2020-11-02|                      ACTUAL|             2020-11-02|           NULL|INTERVENTIONAL|      SPEED|Clinics were assi...|Patient Actor Tra...|Simulated Patient...|           COMPLETED|              NULL|    NA|        24|         ACTUAL|University of Was...|   Data collection w...|             2|            NULL|       NULL|              false|                           NULL|                             NULL|                          NULL|   true|                 NULL|                   NULL|                NULL|   NULL|        NULL|             NULL|               NULL|          NULL|               NULL|                NULL|              YES|         The study investi...|2025-04-22 14:26:...|2025-04-22 14:26:...|       OTHER|           NULL|                 NULL|                            NULL|              NULL|             Medical records|            NULL|\n",
      "|NCT06018389|                         NULL|                2023-08-24|                        NULL|                            NULL|                2024-12-04|                   2023-08-24|             2023-08-30|                      ACTUAL|                           NULL|                     NULL|                          NULL|                               NULL|                         NULL|                              NULL|                   2024-12-04|             2024-12-09|                      ACTUAL|      2023-08-09|         ACTUAL|2023-08-09|                2024-12|       2024-12-31|              2027-01|           ESTIMATED|     2027-01-31|                      2026-08|                   ESTIMATED|             2026-08-31|           NULL|INTERVENTIONAL|       NULL|                NULL|Prevention of Haz...|Prevention of Haz...|ENROLLING_BY_INVI...|              NULL|    NA|      3100|      ESTIMATED|University of Aarhus|                   NULL|             3|            NULL|       NULL|              false|                           NULL|                             NULL|                          NULL|  false|                false|                  false|                NULL|   NULL|       false|             NULL|               NULL|          NULL|               NULL|                NULL|               NO|         After the conclus...|2025-04-22 14:26:...|2025-04-22 14:26:...|       OTHER|           NULL|                 NULL|                            NULL|              NULL|                        NULL|            NULL|\n",
      "|NCT03234023|                         NULL|                2017-07-25|                        NULL|                            NULL|                2024-12-04|                   2017-07-27|             2017-07-31|                      ACTUAL|                           NULL|                     NULL|                          NULL|                               NULL|                         NULL|                              NULL|                   2024-12-04|             2024-12-09|                      ACTUAL|      2017-10-01|         ACTUAL|2017-10-01|                2024-12|       2024-12-31|           2023-02-05|              ACTUAL|     2023-02-05|                   2023-02-05|                      ACTUAL|             2023-02-05|           NULL|INTERVENTIONAL|     SPRING|                NULL|Secondary PRevent...|A Remote Nursing-...|           COMPLETED|              NULL|    NA|       484|         ACTUAL|University Hospit...|                   NULL|             2|            NULL|       NULL|              false|                           NULL|                             NULL|                          NULL|   true|                false|                  false|                NULL|   NULL|        NULL|             NULL|               NULL|          NULL|               NULL|                NULL|               NO|         The data of the p...|2025-04-22 14:26:...|2025-04-22 14:26:...|       OTHER|           NULL|                 NULL|                            NULL|              NULL|                        NULL|            NULL|\n",
      "|NCT06412289|                         NULL|                2024-04-29|                        NULL|                            NULL|                2024-12-03|                   2024-05-08|             2024-05-14|                      ACTUAL|                           NULL|                     NULL|                          NULL|                               NULL|                         NULL|                              NULL|                   2024-12-03|             2024-12-06|                      ACTUAL|      2024-03-08|         ACTUAL|2024-03-08|                2024-12|       2024-12-31|           2026-10-31|           ESTIMATED|     2026-10-31|                   2026-04-30|                   ESTIMATED|             2026-04-30|           NULL|INTERVENTIONAL|     SULTAN|                NULL|Comparison of the...|A Prospective, Ra...|          RECRUITING|              NULL|    NA|       236|      ESTIMATED|University Hospit...|                   NULL|             2|            NULL|       NULL|              false|                           NULL|                             NULL|                          NULL|   NULL|                false|                  false|                NULL|   NULL|        NULL|             NULL|               NULL|          NULL|               NULL|                NULL|             NULL|                         NULL|2025-04-22 14:26:...|2025-04-22 14:26:...|       OTHER|           NULL|                 NULL|                            NULL|              NULL|                        NULL|            NULL|\n",
      "|NCT03252808|                         NULL|                2017-08-09|                        NULL|                            NULL|                2024-12-04|                   2017-08-16|             2017-08-17|                      ACTUAL|                           NULL|                     NULL|                          NULL|                               NULL|                         NULL|                              NULL|                   2024-12-04|             2024-12-09|                      ACTUAL|      2017-09-25|         ACTUAL|2017-09-25|                2024-12|       2024-12-31|           2035-03-31|           ESTIMATED|     2035-03-31|                   2020-02-19|                      ACTUAL|             2020-02-19|           NULL|INTERVENTIONAL|       NULL|                NULL|Phase I Study of ...|Phase I Study of ...|ACTIVE_NOT_RECRUI...|              NULL|PHASE1|        36|      ESTIMATED|     Takara Bio Inc.|                   NULL|             3|            NULL|       NULL|              false|                           NULL|                             NULL|                          NULL|   true|                false|                  false|                NULL|   NULL|       false|             NULL|               NULL|          NULL|               NULL|                NULL|               NO|                         NULL|2025-04-22 14:26:...|2025-04-22 14:26:...|    INDUSTRY|           NULL|                 NULL|                            NULL|              NULL|                        NULL|            NULL|\n",
      "|NCT05859503|                         NULL|                2023-05-03|                        NULL|                            NULL|                2023-05-16|                   2023-05-11|             2023-05-16|                      ACTUAL|                           NULL|                     NULL|                          NULL|                               NULL|                         NULL|                              NULL|                   2023-05-16|             2023-05-17|                      ACTUAL|      2023-05-16|         ACTUAL|2023-05-16|                2023-05|       2023-05-31|           2023-09-01|           ESTIMATED|     2023-09-01|                   2023-09-01|                   ESTIMATED|             2023-09-01|           NULL| OBSERVATIONAL|       NULL|                NULL|A Comparison Stud...|A Comparison Stud...|          RECRUITING|              NULL|  NULL|       200|      ESTIMATED|Hospital Universi...|                   NULL|          NULL|               2|       NULL|              false|                           NULL|                             NULL|                          NULL|  false|                false|                  false|                NULL|   NULL|        NULL|             NULL|               NULL|          NULL|               NULL|                NULL|             NULL|                         NULL|2025-04-23 02:39:...|2025-04-23 02:39:...|       OTHER|           NULL|                 NULL|                            NULL|              NULL|                        NULL|           false|\n",
      "+-----------+-----------------------------+--------------------------+----------------------------+--------------------------------+--------------------------+-----------------------------+-----------------------+----------------------------+-------------------------------+-------------------------+------------------------------+-----------------------------------+-----------------------------+----------------------------------+-----------------------------+-----------------------+----------------------------+----------------+---------------+----------+-----------------------+-----------------+---------------------+--------------------+---------------+-----------------------------+----------------------------+-----------------------+---------------+--------------+-----------+--------------------+--------------------+--------------------+--------------------+------------------+------+----------+---------------+--------------------+-----------------------+--------------+----------------+-----------+-------------------+-------------------------------+---------------------------------+------------------------------+-------+---------------------+-----------------------+--------------------+-------+------------+-----------------+-------------------+--------------+-------------------+--------------------+-----------------+-----------------------------+--------------------+--------------------+------------+---------------+---------------------+--------------------------------+------------------+----------------------------+----------------+\n",
      "only showing top 20 rows\n",
      "\n"
     ]
    },
    {
     "name": "stderr",
     "output_type": "stream",
     "text": [
      "                                                                                \r"
     ]
    },
    {
     "data": {
      "text/plain": [
       "1000"
      ]
     },
     "execution_count": 8,
     "metadata": {},
     "output_type": "execute_result"
    }
   ],
   "source": [
    "studies = aact.load_table(\"studies\")\n",
    "interventions = aact.load_table(\"interventions\", limit=1000)\n",
    "\n",
    "studies.show()\n",
    "interventions.count()\n"
   ]
  },
  {
   "cell_type": "code",
   "execution_count": 15,
   "metadata": {},
   "outputs": [
    {
     "name": "stderr",
     "output_type": "stream",
     "text": [
      "[Stage 5:>                                                          (0 + 1) / 1]\r"
     ]
    },
    {
     "name": "stdout",
     "output_type": "stream",
     "text": [
      "+-----------+\n",
      "|     nct_id|\n",
      "+-----------+\n",
      "|NCT00000102|\n",
      "|NCT00000104|\n",
      "|NCT00000105|\n",
      "|NCT00000106|\n",
      "|NCT00000107|\n",
      "|NCT00000108|\n",
      "|NCT00000110|\n",
      "|NCT00000111|\n",
      "|NCT00000112|\n",
      "|NCT00000113|\n",
      "|NCT00000114|\n",
      "|NCT00000115|\n",
      "|NCT00000116|\n",
      "|NCT00000117|\n",
      "|NCT00000118|\n",
      "|NCT00000119|\n",
      "|NCT00000120|\n",
      "|NCT00000121|\n",
      "|NCT00000122|\n",
      "|NCT00000123|\n",
      "+-----------+\n",
      "only showing top 20 rows\n",
      "\n"
     ]
    },
    {
     "name": "stderr",
     "output_type": "stream",
     "text": [
      "                                                                                \r"
     ]
    }
   ],
   "source": [
    "aact.load_table(\"studies\", limit=1000, select_cols=[\"nct_id\"]).show()"
   ]
  }
 ],
 "metadata": {
  "kernelspec": {
   "display_name": ".venv",
   "language": "python",
   "name": "python3"
  },
  "language_info": {
   "codemirror_mode": {
    "name": "ipython",
    "version": 3
   },
   "file_extension": ".py",
   "mimetype": "text/x-python",
   "name": "python",
   "nbconvert_exporter": "python",
   "pygments_lexer": "ipython3",
   "version": "3.11.11"
  }
 },
 "nbformat": 4,
 "nbformat_minor": 2
}
